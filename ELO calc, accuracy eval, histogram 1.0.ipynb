{
 "cells": [
  {
   "cell_type": "code",
   "execution_count": null,
   "metadata": {},
   "outputs": [],
   "source": [
    "# Step 1 Load the Excel data\n",
    "import pandas as pd\n",
    "file_path = \"games.xlsx\"\n",
    "data = pd.read_excel(file_path)\n",
    "\n",
    "# Step 2  Initialize ELO Parameters\n",
    "K = 32 #K factor for ELO rating system\n",
    "initial_elo = 1500 #Initial ELO rating for all players\n",
    "\n",
    "# Step 3 variables\n",
    "point_scale = 20 #You can change this to whatever you want\n",
    "scaling_factor = 400 #You can change this to whatever you want\n",
    "\n",
    "# Step 3.5 Define ELO Calculation Functions\n",
    "import math\n",
    "\n",
    "def expected_win_probabilty(rating_a, rating_b):\n",
    "    return 1/(1+math.pow(10, (rating_a-rating_b)/scaling_factor))\n",
    "\n",
    "\n",
    "def updated_elo(rating_a, rating_b, score_a):\n",
    "    expected_a = expected_win_probabilty(rating_a, rating_b)\n",
    "    delta = K*(score_a-expected_a)\n",
    "    return rating_a+delta\n",
    "\n",
    "def calculate_metrics(rating_a, rating_b):\n",
    "    win_prob_a = expected_win_probabilty(rating_a, rating_b)\n",
    "    win_prob_b = expected_win_probabilty(rating_b, rating_a)\n",
    "    points_winnable_a = round(point_scale * win_prob_a)\n",
    "    points_winnable_b = round(point_scale * win_prob_b)\n",
    "    points_at_risk_a = round(point_scale - points_winnable_a)\n",
    "    points_at_risk_b = round(point_scale - points_winnable_b)\n",
    "    points_at_risk_alternate_a = round(point_scale * (1-win_prob_a))\n",
    "    points_at_risk_alternate_b = round(point_scale * (1-win_prob_b))\n",
    "    points_winnable_alternate_a = round(point_scale - points_at_risk_alternate_a)\n",
    "    points_winnable_alternate_b = round(point_scale - points_at_risk_alternate_b)\n",
    "\n",
    "\n",
    "    return [win_prob_a, win_prob_b, points_winnable_a, points_winnable_b, points_at_risk_a, points_at_risk_b, points_at_risk_alternate_a, points_at_risk_alternate_b, points_winnable_alternate_a, points_winnable_alternate_b]\n"
   ]
  },
  {
   "cell_type": "code",
   "execution_count": null,
   "metadata": {},
   "outputs": [],
   "source": [
    "# Step 4 Calculate ELO and Metrics\n",
    "\n",
    "\n",
    "elo_ratings = {player:initial_elo for player in set(data[\"Agent\"].unique())| set(data[\"Scenario\"].unique())}\n",
    "    \n",
    "\n",
    "data['Agent Pre-game ELO'] = None\n",
    "data['Scenario Pre-game ELO'] = None\n",
    "data['Agent Win Probability'] = None\n",
    "data['Scenario Win Probability'] = None\n",
    "data['Agent Post-game ELO'] = None\n",
    "data['Scenario Post-game ELO'] = None\n",
    "data['Agent points winnable'] = None\n",
    "data['Scenario points winnable'] = None\n",
    "data['Agent points at risk'] = None\n",
    "data['Scenario points at risk'] = None\n",
    "\n",
    "for index, row in data.iterrows():\n",
    "    agent = row['Agent']\n",
    "    scenario = row['Scenario']\n",
    "    score = row['Win']\n",
    "\n",
    "    agent_elo = elo_ratings[agent]\n",
    "    scenario_elo = elo_ratings[scenario]\n",
    "\n",
    "    agent_pre_elo = agent_elo\n",
    "    scenario_pre_elo = scenario_elo\n",
    "\n",
    "    if score == 'Agent':\n",
    "        agent_score = 1\n",
    "        scenario_score = 0\n",
    "    elif score == 'Scenario':\n",
    "        agent_score = 0\n",
    "        scenario_score = 1\n",
    "\n",
    "    agent_elo = updated_elo(agent_elo, scenario_elo, agent_score)\n",
    "    scenario_elo = updated_elo(scenario_elo, agent_elo, scenario_score)\n",
    "    \n",
    "    elo_ratings[agent] = agent_elo\n",
    "    elo_ratings[scenario] = scenario_elo\n",
    "    \n",
    "    win_prob_agent, win_prob_scenario, points_winnable_agent, points_winnable_scenario, points_at_risk_agent, points_at_risk_scenario = calculate_metrics(agent_pre_elo, scenario_pre_elo)\n",
    "    \n",
    "    data.at[index, 'Agent Pre-game ELO'] = agent_pre_elo\n",
    "    data.at[index, 'Scenario Pre-game ELO'] = scenario_pre_elo\n",
    "    data.at[index, 'Agent Win Probability'] = win_prob_agent\n",
    "    data.at[index, 'Scenario Win Probability'] = win_prob_scenario\n",
    "    data.at[index, 'Agent Post-game ELO'] = agent_elo\n",
    "    data.at[index, 'Scenario Post-game ELO'] = scenario_elo\n",
    "    data.at[index, 'Agent points winnable'] = points_winnable_agent\n",
    "    data.at[index, 'Scenario points winnable'] = points_winnable_scenario\n",
    "    data.at[index, 'Agent points at risk'] = points_at_risk_agent\n",
    "    data.at[index, 'Scenario points at risk'] = points_at_risk_scenario"
   ]
  },
  {
   "cell_type": "code",
   "execution_count": null,
   "metadata": {},
   "outputs": [],
   "source": [
    "#Step 5 Calculate Prediction Accuracy\n",
    "\n",
    "accuracy_counts = {i: {'predicted': 0, 'actual': 0} for i in range(0, 100, 10)}\n",
    "\n",
    "for _, row in data.iterrows():\n",
    "    predicted_percent = int(row['Agent Win Probability'] * 100)\n",
    "    actual_winner = row['Outcome']\n",
    "    \n",
    "    accuracy_counts[predicted_percent]['predicted'] += 1\n",
    "    \n",
    "    if predicted_percent >= 50 and actual_winner == 'Agent':\n",
    "        accuracy_counts[predicted_percent]['actual'] += 1\n",
    "    elif predicted_percent < 50 and actual_winner == 'Scenario':\n",
    "        accuracy_counts[predicted_percent]['actual'] += 1\n",
    "\n",
    "print(\"Predicted vs. Actual Accuracy:\")\n",
    "for percent, counts in accuracy_counts.items():\n",
    "    if counts['predicted'] > 0:\n",
    "        accuracy = counts['actual'] / counts['predicted']\n",
    "        print(f\"Predicted {percent}-{percent+9}%: Actual Accuracy = {accuracy:.2%}\")"
   ]
  },
  {
   "cell_type": "code",
   "execution_count": null,
   "metadata": {},
   "outputs": [],
   "source": [
    "# Step 6: Create a Histogram for Accuracy Counts\n",
    "\n",
    "import matplotlib.pyplot as plt\n",
    "\n",
    "predicted_percentages = [percent for percent in accuracy_counts.keys()]\n",
    "actual_accuracies = [counts['actual'] / counts['predicted'] if counts['predicted'] > 0 else 0 for counts in accuracy_counts.values()]\n",
    "\n",
    "plt.bar(predicted_percentages, actual_accuracies, width=8, align='edge', color='blue')\n",
    "plt.xlabel('Predicted Win Percentage')\n",
    "plt.ylabel('Actual Accuracy')\n",
    "plt.title('Prediction Accuracy Histogram')\n",
    "plt.xticks(range(0, 101, 10))\n",
    "plt.ylim(0, 1)\n",
    "plt.grid(True)\n",
    "plt.show()\n"
   ]
  },
  {
   "cell_type": "code",
   "execution_count": null,
   "metadata": {},
   "outputs": [],
   "source": [
    "# Step 7: Create a Histogram of ELO Ratings\n",
    "\n"
   ]
  }
 ],
 "metadata": {
  "kernelspec": {
   "display_name": "base",
   "language": "python",
   "name": "python3"
  },
  "language_info": {
   "name": "python",
   "version": "3.9.13"
  },
  "orig_nbformat": 4
 },
 "nbformat": 4,
 "nbformat_minor": 2
}









############################################## ELO start
import pandas as pd
import math

dataset

params = {
    "date_column":"Game Match",
    "agent_column":"Agent",
    "scenario_column":"Scenario",
    "outcome_column":"WIN",
    "win_mapping":{
        "Scenario":0,
        "Agent":1,
        "Tie":.5},
    "player_starting_score":1500,
    "scenario_starting_score":1500,
    "player_k":32,
    "scenario_k":32,
    "player_point_scale":20,
    "scenario_point_scale":20,
    "player_scaling_factor": 400,
    "scenario_scaling_factor": 400
    }
 
class game:
    def __init__(self,player_1,player_2,outcome,date):
        self.date = date
        self.outcome = params["win_mapping"][str(outcome)] #"1" implies victory for agent, "0" implies victory cor scenario...........TODO integra esto wey
        self.win = self.win_txt()
        self.p1_score = self.outcome
        self.p2_score = 1 - self.p1_score
        self.p1 = player_1
        self.p2 = player_2
        self.p1_pregame_score = self.p1.actual_score    
        self.p2_pregame_score = self.p2.actual_score
        self.p1_win_prob = self.expected_player1_win()
        self.p2_win_prob = self.expected_player2_win()
        self.p1_points_winnable = self.points_winnable_player_1()
        self.p2_points_winnable = self.points_winnable_player_2()
        self.p1_points_at_risk = self.points_at_risk_player_1()
        self.p2_points_at_risk = self.points_at_risk_player_2()   
        self.newp1 = 0#Score_metric(score1,score2) #TODO Cambiar nombre de funcion
        self.newp2 = 0#Score_metric(score2,score1)
        self.play()
        player_1.update_score(self.newp1)
        player_2.update_score(self.newp2)
       
       #TODO edit so output is right
        self.out_dict = {
           "Game Match": self.date,
           "Agent":self.p1.name,
           "Scenario":self.p2.name,
           "WIN":self.win,
           "Agent Pre-game ELO":self.p1_pregame_score,
           "Scenario Pre-game ELO":self.p2_pregame_score,
           "Agent Win Probability":self.p1_win_prob,
           "Scenario Win Probability":self.p2_win_prob,
           "Agent Post-game ELO":player_1.actual_score,
           "Scenario Post-game ELO":player_2.actual_score,
           "Agent points winnable":self.p1_points_winnable,
           "Scenario points winnable":self.p2_points_winnable,
           "Agent points at risk":self.p1_points_at_risk,
           "Scenario points at risk":self.p2_points_at_risk
           }
 
    def win_txt(self):
        if self.outcome == 0:
            return "Scenario"
        elif self.outcome == 1:
            return "Agent"
        else:
            return "Tie"
    def expected_player1_win(self):
        expected = 1 / (1 + math.pow(10,
                   (self.p2.actual_score - self.p1.actual_score) / self.p1.scaling_factor)
                        )
        return expected
    
    def expected_player2_win(self):
        expected = 1 / (1 + math.pow(10,
                   (self.p1.actual_score - self.p2.actual_score) / self.p2.scaling_factor)
                        )
        return expected
 
    def points_winnable_player_1(self):
        return self.p1.k * (1-self.p1_win_prob)
    
    def points_winnable_player_2(self):
        return self.p2.k * (1-self.p2_win_prob)
 
    def points_at_risk_player_1(self):
        return self.p1.k - self.p1_points_winnable
 
    def points_at_risk_player_2(self):
        return self.p2.k - self.p2_points_winnable
 
    def play(self):
        self.newp1 = self.p1_pregame_score + self.p1.k * (self.p1_score - self.p1_win_prob)
        self.newp2 = self.p2_pregame_score + self.p2.k * (self.p2_score - self.p2_win_prob)
 
class player:
    def __init__(self,name,score=params["player_starting_score"]):
        self.name=name
        self.actual_score= score
        self.starting_score= params["player_starting_score"]
        self.k= params["player_k"]
        self.point_scale= params["player_point_scale"]
        self.scaling_factor= params["player_scaling_factor"]
    
    def update_score(self,new_score):
        self.actual_score=new_score
    
    def out_dict(self):
        data = {
            "Agent":self.name,
            "Current ELO": self.actual_score
        }
        return data
 
class scenario:
    def __init__(self,name,score = params["scenario_starting_score"]):
        self.name = name
        self.actual_score = score
        self.starting_score = params["scenario_starting_score"]
        self.k = params["scenario_k"]
        self.point_scale = params["scenario_point_scale"]
        self.scaling_factor = params["scenario_scaling_factor"]
    
    def update_score(self,new_score):
        self.actual_score=new_score
 
    def out_dict(self):
        data = {
            "Scenario":self.name,
            "Current ELO": self.actual_score}
        return data
 
 
all_players     = set(dataset.loc[:,params["agent_column"]])
all_scenarios   = set(dataset.loc[:,params["scenario_column"]])
all_games       = list(zip(dataset.loc[:,params["agent_column"]],dataset.loc[:,params["scenario_column"]],dataset.loc[:,params["outcome_column"]],dataset.loc[:,params["date_column"]]))
 
all_games[0]
players_dict={}
for i in all_players:
    players_dict[i]= player(i)
 
scenarios_dict={}
for i in all_scenarios:
    scenarios_dict[i]= scenario(i)
 
games_dict = []
for i in all_games:
    g1 = game(players_dict[i[0]],scenarios_dict[i[1]],i[2],i[3])
    games_dict.append(g1.out_dict)
 
# original_data = dataset.copy()
dataset = pd.DataFrame(games_dict)
 
current_agent_score = []
for i in players_dict:
    current_agent_score.append(players_dict[i].out_dict())
 
current_scenarios_score = []
for i in scenarios_dict:
    current_scenarios_score.append(scenarios_dict[i].out_dict())
 

